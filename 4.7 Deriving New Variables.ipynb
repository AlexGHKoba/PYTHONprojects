{
 "cells": [
  {
   "cell_type": "markdown",
   "id": "78599d18",
   "metadata": {},
   "source": [
    "## Define functions"
   ]
  },
  {
   "cell_type": "code",
   "execution_count": 5,
   "id": "919053fd",
   "metadata": {},
   "outputs": [],
   "source": [
    "# Import libraries\n",
    "\n",
    "import pandas as pd\n",
    "import numpy as np\n",
    "import os\n",
    "path = r'C:\\Users\\User\\Instacart Basket Analysis'\n",
    "df_orders_products_merge=pd.read_pickle(os.path.join(path, '02 Data', 'Prepared Data', 'orders_products_merged.pkl'))"
   ]
  },
  {
   "cell_type": "code",
   "execution_count": 6,
   "id": "0285d653",
   "metadata": {},
   "outputs": [],
   "source": [
    "# Subsampling\n",
    "df = df_orders_products_merge[:1000000]"
   ]
  },
  {
   "cell_type": "code",
   "execution_count": 7,
   "id": "138951fc",
   "metadata": {},
   "outputs": [],
   "source": [
    "# Define 'price_label' function\n",
    "def price_label(row):\n",
    "\n",
    "  if row['prices'] <= 5:\n",
    "    return 'Low-range product'\n",
    "  elif (row['prices'] > 5) and (row['prices'] <= 15):\n",
    "    return 'Mid-range product'\n",
    "  elif row['prices'] > 15:\n",
    "    return 'High range'\n",
    "  else: return np.nan"
   ]
  },
  {
   "cell_type": "code",
   "execution_count": 8,
   "id": "43ac97c5",
   "metadata": {},
   "outputs": [
    {
     "name": "stderr",
     "output_type": "stream",
     "text": [
      "C:\\Users\\User\\AppData\\Local\\Temp\\ipykernel_13188\\2890558116.py:2: SettingWithCopyWarning: \n",
      "A value is trying to be set on a copy of a slice from a DataFrame.\n",
      "Try using .loc[row_indexer,col_indexer] = value instead\n",
      "\n",
      "See the caveats in the documentation: https://pandas.pydata.org/pandas-docs/stable/user_guide/indexing.html#returning-a-view-versus-a-copy\n",
      "  df['price_range'] = df.apply(price_label, axis = 1)\n"
     ]
    }
   ],
   "source": [
    "# Use this function \n",
    "df['price_range'] = df.apply(price_label, axis = 1)"
   ]
  },
  {
   "cell_type": "code",
   "execution_count": 9,
   "id": "2bc3e5ba",
   "metadata": {},
   "outputs": [
    {
     "data": {
      "text/plain": [
       "price_range\n",
       "Mid-range product    652638\n",
       "Low-range product    338018\n",
       "High range             9344\n",
       "Name: count, dtype: int64"
      ]
     },
     "execution_count": 9,
     "metadata": {},
     "output_type": "execute_result"
    }
   ],
   "source": [
    "df['price_range'].value_counts(dropna = False)"
   ]
  },
  {
   "cell_type": "code",
   "execution_count": 10,
   "id": "b1c2a4fa",
   "metadata": {},
   "outputs": [
    {
     "data": {
      "text/plain": [
       "24.5"
      ]
     },
     "execution_count": 10,
     "metadata": {},
     "output_type": "execute_result"
    }
   ],
   "source": [
    "df['prices'].max()"
   ]
  },
  {
   "cell_type": "code",
   "execution_count": 11,
   "id": "886e774c",
   "metadata": {},
   "outputs": [
    {
     "name": "stderr",
     "output_type": "stream",
     "text": [
      "C:\\Users\\User\\AppData\\Local\\Temp\\ipykernel_13188\\1399958827.py:2: SettingWithCopyWarning: \n",
      "A value is trying to be set on a copy of a slice from a DataFrame.\n",
      "Try using .loc[row_indexer,col_indexer] = value instead\n",
      "\n",
      "See the caveats in the documentation: https://pandas.pydata.org/pandas-docs/stable/user_guide/indexing.html#returning-a-view-versus-a-copy\n",
      "  df.loc[df['prices'] > 15, 'price_range_loc'] = 'High-range product'\n"
     ]
    }
   ],
   "source": [
    "# Same using loc \n",
    "df.loc[df['prices'] > 15, 'price_range_loc'] = 'High-range product'"
   ]
  },
  {
   "cell_type": "code",
   "execution_count": 12,
   "id": "a59c4f90",
   "metadata": {},
   "outputs": [],
   "source": [
    "df.loc[(df['prices'] <= 15) & (df['prices'] > 5), 'price_range_loc'] = 'Mid-range product' "
   ]
  },
  {
   "cell_type": "code",
   "execution_count": 13,
   "id": "2ce5f308",
   "metadata": {},
   "outputs": [],
   "source": [
    "df.loc[df['prices'] <= 5, 'price_range_loc'] = 'Low-range product'"
   ]
  },
  {
   "cell_type": "code",
   "execution_count": 14,
   "id": "f3600ddc",
   "metadata": {},
   "outputs": [
    {
     "data": {
      "text/plain": [
       "price_range\n",
       "Mid-range product    652638\n",
       "Low-range product    338018\n",
       "High range             9344\n",
       "Name: count, dtype: int64"
      ]
     },
     "execution_count": 14,
     "metadata": {},
     "output_type": "execute_result"
    }
   ],
   "source": [
    "df['price_range'].value_counts(dropna = False)"
   ]
  },
  {
   "cell_type": "markdown",
   "id": "69d3798c",
   "metadata": {},
   "source": [
    "### Setting flags for a full dataframe"
   ]
  },
  {
   "cell_type": "code",
   "execution_count": 15,
   "id": "2180ea91",
   "metadata": {},
   "outputs": [],
   "source": [
    "df_orders_products_merge.loc[df_orders_products_merge['prices'] > 15, 'price_range_loc'] = 'High-range product'"
   ]
  },
  {
   "cell_type": "code",
   "execution_count": 16,
   "id": "7321bdd6",
   "metadata": {},
   "outputs": [],
   "source": [
    "df_orders_products_merge.loc[(df_orders_products_merge['prices'] <= 15) & (df_orders_products_merge['prices'] > 5), 'price_range_loc'] = 'Mid-range product' "
   ]
  },
  {
   "cell_type": "code",
   "execution_count": 17,
   "id": "6fe34671",
   "metadata": {},
   "outputs": [],
   "source": [
    "df_orders_products_merge.loc[df_orders_products_merge['prices'] <= 5, 'price_range_loc'] = 'Low-range product'"
   ]
  },
  {
   "cell_type": "code",
   "execution_count": 18,
   "id": "c9ad73d9",
   "metadata": {},
   "outputs": [
    {
     "data": {
      "text/plain": [
       "price_range_loc\n",
       "Mid-range product     21860860\n",
       "Low-range product     10126321\n",
       "High-range product      417678\n",
       "Name: count, dtype: int64"
      ]
     },
     "execution_count": 18,
     "metadata": {},
     "output_type": "execute_result"
    }
   ],
   "source": [
    "df_orders_products_merge['price_range_loc'].value_counts(dropna = False)"
   ]
  },
  {
   "cell_type": "code",
   "execution_count": 19,
   "id": "6941cb74",
   "metadata": {},
   "outputs": [],
   "source": [
    "df_orders_products_merge.rename(columns = {'order_dow' : 'orders_day_of_the_week'}, inplace = True) "
   ]
  },
  {
   "cell_type": "code",
   "execution_count": 20,
   "id": "8dceb49e",
   "metadata": {},
   "outputs": [
    {
     "data": {
      "text/plain": [
       "Index(['Unnamed: 0_x', 'product_id', 'product_name', 'aisle_id',\n",
       "       'department_id', 'prices', 'Unnamed: 0_y', 'order_id', 'user_id',\n",
       "       'order_number', 'orders_day_of_the_week', 'order_hour_of_day',\n",
       "       'days_since_prior_order', 'days_since_prior_order_Flag',\n",
       "       'add_to_cart_order', 'reordered', '_merge', 'price_range_loc'],\n",
       "      dtype='object')"
      ]
     },
     "execution_count": 20,
     "metadata": {},
     "output_type": "execute_result"
    }
   ],
   "source": [
    "df_orders_products_merge.columns"
   ]
  },
  {
   "cell_type": "code",
   "execution_count": 21,
   "id": "d47dbc13",
   "metadata": {},
   "outputs": [
    {
     "data": {
      "text/plain": [
       "orders_day_of_the_week\n",
       "0    6204182\n",
       "1    5660230\n",
       "6    4496490\n",
       "2    4213830\n",
       "5    4205791\n",
       "3    3840534\n",
       "4    3783802\n",
       "Name: count, dtype: int64"
      ]
     },
     "execution_count": 21,
     "metadata": {},
     "output_type": "execute_result"
    }
   ],
   "source": [
    "df_orders_products_merge['orders_day_of_the_week'].value_counts(dropna = False)"
   ]
  },
  {
   "cell_type": "code",
   "execution_count": 22,
   "id": "f24d3dc4",
   "metadata": {},
   "outputs": [
    {
     "data": {
      "text/plain": [
       "(32404859, 18)"
      ]
     },
     "execution_count": 22,
     "metadata": {},
     "output_type": "execute_result"
    }
   ],
   "source": [
    "df_orders_products_merge.shape"
   ]
  },
  {
   "cell_type": "markdown",
   "id": "ed9981ea",
   "metadata": {},
   "source": [
    "### New functions and flags"
   ]
  },
  {
   "cell_type": "code",
   "execution_count": 23,
   "id": "95748118",
   "metadata": {},
   "outputs": [],
   "source": [
    "# New function\n",
    "\n",
    "result = []\n",
    "\n",
    "for value in df_orders_products_merge[\"orders_day_of_the_week\"]:\n",
    "  if value == 0:\n",
    "    result.append(\"Busiest day\")\n",
    "  elif value == 4:\n",
    "    result.append(\"Least busy\")\n",
    "  else:\n",
    "    result.append(\"Regularly busy\")\n",
    "    \n"
   ]
  },
  {
   "cell_type": "code",
   "execution_count": 24,
   "id": "e8647945",
   "metadata": {},
   "outputs": [],
   "source": [
    "df_orders_products_merge['busy_day']=result"
   ]
  },
  {
   "cell_type": "code",
   "execution_count": 25,
   "id": "4265c6b3",
   "metadata": {},
   "outputs": [
    {
     "data": {
      "text/plain": [
       "busy_day\n",
       "Regularly busy    22416875\n",
       "Busiest day        6204182\n",
       "Least busy         3783802\n",
       "Name: count, dtype: int64"
      ]
     },
     "execution_count": 25,
     "metadata": {},
     "output_type": "execute_result"
    }
   ],
   "source": [
    "df_orders_products_merge['busy_day'].value_counts(dropna = False)"
   ]
  },
  {
   "cell_type": "markdown",
   "id": "fc4fde75",
   "metadata": {},
   "source": [
    "## Create and fill new column 'busiest days'"
   ]
  },
  {
   "cell_type": "code",
   "execution_count": 26,
   "id": "b3ecd0ae",
   "metadata": {},
   "outputs": [],
   "source": [
    "result1 = []\n",
    "\n",
    "for value in df_orders_products_merge[\"orders_day_of_the_week\"]:\n",
    "  if value <= 1:\n",
    "    result1.append(\"Busiest days\")\n",
    "  elif (value == 3 or value == 4):\n",
    "    result1.append(\"Least busy days\")\n",
    "  else:\n",
    "    result1.append(\"Regularly busy\")\n",
    "    "
   ]
  },
  {
   "cell_type": "code",
   "execution_count": 27,
   "id": "a2d741ce",
   "metadata": {},
   "outputs": [],
   "source": [
    "df_orders_products_merge['busiest days']=result1"
   ]
  },
  {
   "cell_type": "code",
   "execution_count": 28,
   "id": "10911f06",
   "metadata": {},
   "outputs": [
    {
     "data": {
      "text/plain": [
       "busiest days\n",
       "Regularly busy     12916111\n",
       "Busiest days       11864412\n",
       "Least busy days     7624336\n",
       "Name: count, dtype: int64"
      ]
     },
     "execution_count": 28,
     "metadata": {},
     "output_type": "execute_result"
    }
   ],
   "source": [
    "df_orders_products_merge['busiest days'].value_counts(dropna = False)"
   ]
  },
  {
   "cell_type": "markdown",
   "id": "1a7fcfa5",
   "metadata": {},
   "source": [
    "### These values correspond to the values in 'orders_day_of_the_week' (out[30]) "
   ]
  },
  {
   "cell_type": "markdown",
   "id": "83584955",
   "metadata": {},
   "source": [
    "### "
   ]
  },
  {
   "cell_type": "markdown",
   "id": "b518f628",
   "metadata": {},
   "source": [
    "## Create and fill new column 'busiest_period_of_day'"
   ]
  },
  {
   "cell_type": "code",
   "execution_count": 29,
   "id": "8b01b9c6",
   "metadata": {},
   "outputs": [
    {
     "data": {
      "text/plain": [
       "order_hour_of_day\n",
       "10    2761760\n",
       "11    2736140\n",
       "14    2689136\n",
       "15    2662144\n",
       "13    2660954\n",
       "12    2618532\n",
       "16    2535202\n",
       "9     2454203\n",
       "17    2087654\n",
       "8     1718118\n",
       "18    1636502\n",
       "19    1258305\n",
       "20     976156\n",
       "7      891054\n",
       "21     795637\n",
       "22     634225\n",
       "23     402316\n",
       "6      290493\n",
       "0      218769\n",
       "1      115700\n",
       "5       87961\n",
       "2       69375\n",
       "4       53242\n",
       "3       51281\n",
       "Name: count, dtype: int64"
      ]
     },
     "execution_count": 29,
     "metadata": {},
     "output_type": "execute_result"
    }
   ],
   "source": [
    "df_orders_products_merge['order_hour_of_day'].value_counts(dropna = False)"
   ]
  },
  {
   "cell_type": "markdown",
   "id": "b87bc795",
   "metadata": {},
   "source": [
    "####  The busiest hours of the day are 10 - 15, the least buses are 0 - 6"
   ]
  },
  {
   "cell_type": "code",
   "execution_count": 30,
   "id": "eb1ce1ca",
   "metadata": {},
   "outputs": [],
   "source": [
    "result2 = []\n",
    "\n",
    "for value in df_orders_products_merge['order_hour_of_day']:\n",
    "  if value <= 6:\n",
    "    result2.append('Fewest orders')\n",
    "  elif (value >= 10 and value <= 15):\n",
    "    result2.append('Most orders')\n",
    "  else:\n",
    "    result2.append('Average orders')"
   ]
  },
  {
   "cell_type": "code",
   "execution_count": 31,
   "id": "128ce145",
   "metadata": {},
   "outputs": [],
   "source": [
    "df_orders_products_merge['busiest_period_of_day']=result2"
   ]
  },
  {
   "cell_type": "code",
   "execution_count": 32,
   "id": "6b6339ba",
   "metadata": {},
   "outputs": [
    {
     "data": {
      "text/plain": [
       "busiest_period_of_day\n",
       "Most orders       16128666\n",
       "Average orders    15389372\n",
       "Fewest orders       886821\n",
       "Name: count, dtype: int64"
      ]
     },
     "execution_count": 32,
     "metadata": {},
     "output_type": "execute_result"
    }
   ],
   "source": [
    "df_orders_products_merge['busiest_period_of_day'].value_counts(dropna = False)"
   ]
  },
  {
   "cell_type": "markdown",
   "id": "9ac13389",
   "metadata": {},
   "source": [
    "## Save as a .pkl file"
   ]
  },
  {
   "cell_type": "code",
   "execution_count": 33,
   "id": "5f0b976a",
   "metadata": {},
   "outputs": [],
   "source": [
    "# Export as .pkl\n",
    "df_orders_products_merge.to_pickle(os.path.join(path, '02 Data','Prepared Data', 'orders_products_merged.pkl'))"
   ]
  },
  {
   "cell_type": "code",
   "execution_count": null,
   "id": "fcf6c075",
   "metadata": {},
   "outputs": [],
   "source": []
  }
 ],
 "metadata": {
  "kernelspec": {
   "display_name": "Python 3 (ipykernel)",
   "language": "python",
   "name": "python3"
  },
  "language_info": {
   "codemirror_mode": {
    "name": "ipython",
    "version": 3
   },
   "file_extension": ".py",
   "mimetype": "text/x-python",
   "name": "python",
   "nbconvert_exporter": "python",
   "pygments_lexer": "ipython3",
   "version": "3.11.4"
  }
 },
 "nbformat": 4,
 "nbformat_minor": 5
}
