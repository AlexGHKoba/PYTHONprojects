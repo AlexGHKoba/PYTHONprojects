{
 "cells": [
  {
   "cell_type": "markdown",
   "id": "f42ae0b8",
   "metadata": {},
   "source": [
    "## IC customer profiling 2"
   ]
  },
  {
   "cell_type": "code",
   "execution_count": 93,
   "id": "def6dadb",
   "metadata": {},
   "outputs": [],
   "source": [
    "import pandas as pd\n",
    "import numpy as np\n",
    "import os\n",
    "import matplotlib.pyplot as plt\n",
    "import seaborn as sns\n",
    "import scipy\n",
    "\n",
    "path = r'C:\\Users\\User\\Instacart Basket Analysis'\n",
    "df_orders_products_region = pd.read_pickle(os.path.join(path, '02 Data', 'Prepared Data', 'orders_products_region.pkl'))"
   ]
  },
  {
   "cell_type": "markdown",
   "id": "82d9e585",
   "metadata": {},
   "source": [
    "### Grouping and aggregating data "
   ]
  },
  {
   "cell_type": "code",
   "execution_count": 99,
   "id": "4286b1c8",
   "metadata": {},
   "outputs": [],
   "source": [
    "# Grouping, transform, and new column\n",
    "df_orders_products_region['orders_number'] = df_orders_products_region.groupby(['user_id'])['order_id'].transform('count')"
   ]
  },
  {
   "cell_type": "code",
   "execution_count": 46,
   "id": "ce340b91",
   "metadata": {},
   "outputs": [],
   "source": [
    "pd.options.display.max_columns = None"
   ]
  },
  {
   "cell_type": "code",
   "execution_count": 100,
   "id": "1d2c2957",
   "metadata": {},
   "outputs": [
    {
     "data": {
      "text/plain": [
       "Index(['user_id', 'STATE', 'Age', 'n_dependants', 'fam_status', 'income',\n",
       "       'product_id', 'product_name', 'aisle_id', 'department_id', 'prices',\n",
       "       'order_id', 'order_number', 'orders_day_of_the_week',\n",
       "       'order_hour_of_day', 'days_since_prior_order',\n",
       "       'days_since_prior_order_Flag', 'add_to_cart_order', 'reordered',\n",
       "       'max_order', 'loyalty_flag', 'average_price', 'spender_flag',\n",
       "       'median_freq', 'freq_Flag', '_merge', 'region', 'orders_number'],\n",
       "      dtype='object')"
      ]
     },
     "execution_count": 100,
     "metadata": {},
     "output_type": "execute_result"
    }
   ],
   "source": [
    "df_orders_products_region.columns\n"
   ]
  },
  {
   "cell_type": "code",
   "execution_count": 101,
   "id": "4b6be1a1",
   "metadata": {},
   "outputs": [
    {
     "data": {
      "text/html": [
       "<div>\n",
       "<style scoped>\n",
       "    .dataframe tbody tr th:only-of-type {\n",
       "        vertical-align: middle;\n",
       "    }\n",
       "\n",
       "    .dataframe tbody tr th {\n",
       "        vertical-align: top;\n",
       "    }\n",
       "\n",
       "    .dataframe thead th {\n",
       "        text-align: right;\n",
       "    }\n",
       "</style>\n",
       "<table border=\"1\" class=\"dataframe\">\n",
       "  <thead>\n",
       "    <tr style=\"text-align: right;\">\n",
       "      <th></th>\n",
       "      <th>user_id</th>\n",
       "      <th>STATE</th>\n",
       "      <th>Age</th>\n",
       "      <th>n_dependants</th>\n",
       "      <th>fam_status</th>\n",
       "      <th>income</th>\n",
       "      <th>product_id</th>\n",
       "      <th>product_name</th>\n",
       "      <th>aisle_id</th>\n",
       "      <th>department_id</th>\n",
       "      <th>prices</th>\n",
       "      <th>order_id</th>\n",
       "      <th>order_number</th>\n",
       "      <th>orders_day_of_the_week</th>\n",
       "      <th>order_hour_of_day</th>\n",
       "      <th>days_since_prior_order</th>\n",
       "      <th>days_since_prior_order_Flag</th>\n",
       "      <th>add_to_cart_order</th>\n",
       "      <th>reordered</th>\n",
       "      <th>max_order</th>\n",
       "      <th>loyalty_flag</th>\n",
       "      <th>average_price</th>\n",
       "      <th>spender_flag</th>\n",
       "      <th>median_freq</th>\n",
       "      <th>freq_Flag</th>\n",
       "      <th>_merge</th>\n",
       "      <th>region</th>\n",
       "      <th>orders_number</th>\n",
       "    </tr>\n",
       "  </thead>\n",
       "  <tbody>\n",
       "    <tr>\n",
       "      <th>0</th>\n",
       "      <td>26711</td>\n",
       "      <td>Missouri</td>\n",
       "      <td>48</td>\n",
       "      <td>3</td>\n",
       "      <td>married</td>\n",
       "      <td>165665</td>\n",
       "      <td>196</td>\n",
       "      <td>Soda</td>\n",
       "      <td>77</td>\n",
       "      <td>7</td>\n",
       "      <td>9.0</td>\n",
       "      <td>2543867</td>\n",
       "      <td>5</td>\n",
       "      <td>1</td>\n",
       "      <td>9</td>\n",
       "      <td>30.0</td>\n",
       "      <td>False</td>\n",
       "      <td>2</td>\n",
       "      <td>0</td>\n",
       "      <td>8</td>\n",
       "      <td>New customer</td>\n",
       "      <td>7.988889</td>\n",
       "      <td>Low spender</td>\n",
       "      <td>19.0</td>\n",
       "      <td>Regular customer</td>\n",
       "      <td>both</td>\n",
       "      <td>Midwest</td>\n",
       "      <td>18</td>\n",
       "    </tr>\n",
       "    <tr>\n",
       "      <th>1</th>\n",
       "      <td>26711</td>\n",
       "      <td>Missouri</td>\n",
       "      <td>48</td>\n",
       "      <td>3</td>\n",
       "      <td>married</td>\n",
       "      <td>165665</td>\n",
       "      <td>196</td>\n",
       "      <td>Soda</td>\n",
       "      <td>77</td>\n",
       "      <td>7</td>\n",
       "      <td>9.0</td>\n",
       "      <td>1285508</td>\n",
       "      <td>7</td>\n",
       "      <td>5</td>\n",
       "      <td>15</td>\n",
       "      <td>11.0</td>\n",
       "      <td>False</td>\n",
       "      <td>1</td>\n",
       "      <td>1</td>\n",
       "      <td>8</td>\n",
       "      <td>New customer</td>\n",
       "      <td>7.988889</td>\n",
       "      <td>Low spender</td>\n",
       "      <td>19.0</td>\n",
       "      <td>Regular customer</td>\n",
       "      <td>both</td>\n",
       "      <td>Midwest</td>\n",
       "      <td>18</td>\n",
       "    </tr>\n",
       "    <tr>\n",
       "      <th>2</th>\n",
       "      <td>26711</td>\n",
       "      <td>Missouri</td>\n",
       "      <td>48</td>\n",
       "      <td>3</td>\n",
       "      <td>married</td>\n",
       "      <td>165665</td>\n",
       "      <td>196</td>\n",
       "      <td>Soda</td>\n",
       "      <td>77</td>\n",
       "      <td>7</td>\n",
       "      <td>9.0</td>\n",
       "      <td>2578584</td>\n",
       "      <td>8</td>\n",
       "      <td>1</td>\n",
       "      <td>15</td>\n",
       "      <td>10.0</td>\n",
       "      <td>False</td>\n",
       "      <td>2</td>\n",
       "      <td>1</td>\n",
       "      <td>8</td>\n",
       "      <td>New customer</td>\n",
       "      <td>7.988889</td>\n",
       "      <td>Low spender</td>\n",
       "      <td>19.0</td>\n",
       "      <td>Regular customer</td>\n",
       "      <td>both</td>\n",
       "      <td>Midwest</td>\n",
       "      <td>18</td>\n",
       "    </tr>\n",
       "    <tr>\n",
       "      <th>3</th>\n",
       "      <td>26711</td>\n",
       "      <td>Missouri</td>\n",
       "      <td>48</td>\n",
       "      <td>3</td>\n",
       "      <td>married</td>\n",
       "      <td>165665</td>\n",
       "      <td>6184</td>\n",
       "      <td>Clementines</td>\n",
       "      <td>32</td>\n",
       "      <td>4</td>\n",
       "      <td>4.3</td>\n",
       "      <td>518967</td>\n",
       "      <td>1</td>\n",
       "      <td>2</td>\n",
       "      <td>9</td>\n",
       "      <td>NaN</td>\n",
       "      <td>True</td>\n",
       "      <td>1</td>\n",
       "      <td>0</td>\n",
       "      <td>8</td>\n",
       "      <td>New customer</td>\n",
       "      <td>7.988889</td>\n",
       "      <td>Low spender</td>\n",
       "      <td>19.0</td>\n",
       "      <td>Regular customer</td>\n",
       "      <td>both</td>\n",
       "      <td>Midwest</td>\n",
       "      <td>18</td>\n",
       "    </tr>\n",
       "    <tr>\n",
       "      <th>4</th>\n",
       "      <td>26711</td>\n",
       "      <td>Missouri</td>\n",
       "      <td>48</td>\n",
       "      <td>3</td>\n",
       "      <td>married</td>\n",
       "      <td>165665</td>\n",
       "      <td>6184</td>\n",
       "      <td>Clementines</td>\n",
       "      <td>32</td>\n",
       "      <td>4</td>\n",
       "      <td>4.3</td>\n",
       "      <td>2524893</td>\n",
       "      <td>3</td>\n",
       "      <td>3</td>\n",
       "      <td>11</td>\n",
       "      <td>30.0</td>\n",
       "      <td>False</td>\n",
       "      <td>2</td>\n",
       "      <td>1</td>\n",
       "      <td>8</td>\n",
       "      <td>New customer</td>\n",
       "      <td>7.988889</td>\n",
       "      <td>Low spender</td>\n",
       "      <td>19.0</td>\n",
       "      <td>Regular customer</td>\n",
       "      <td>both</td>\n",
       "      <td>Midwest</td>\n",
       "      <td>18</td>\n",
       "    </tr>\n",
       "  </tbody>\n",
       "</table>\n",
       "</div>"
      ],
      "text/plain": [
       "   user_id     STATE  Age  n_dependants fam_status  income  product_id  \\\n",
       "0    26711  Missouri   48             3    married  165665         196   \n",
       "1    26711  Missouri   48             3    married  165665         196   \n",
       "2    26711  Missouri   48             3    married  165665         196   \n",
       "3    26711  Missouri   48             3    married  165665        6184   \n",
       "4    26711  Missouri   48             3    married  165665        6184   \n",
       "\n",
       "  product_name  aisle_id  department_id  prices  order_id  order_number  \\\n",
       "0         Soda        77              7     9.0   2543867             5   \n",
       "1         Soda        77              7     9.0   1285508             7   \n",
       "2         Soda        77              7     9.0   2578584             8   \n",
       "3  Clementines        32              4     4.3    518967             1   \n",
       "4  Clementines        32              4     4.3   2524893             3   \n",
       "\n",
       "   orders_day_of_the_week  order_hour_of_day  days_since_prior_order  \\\n",
       "0                       1                  9                    30.0   \n",
       "1                       5                 15                    11.0   \n",
       "2                       1                 15                    10.0   \n",
       "3                       2                  9                     NaN   \n",
       "4                       3                 11                    30.0   \n",
       "\n",
       "   days_since_prior_order_Flag  add_to_cart_order  reordered  max_order  \\\n",
       "0                        False                  2          0          8   \n",
       "1                        False                  1          1          8   \n",
       "2                        False                  2          1          8   \n",
       "3                         True                  1          0          8   \n",
       "4                        False                  2          1          8   \n",
       "\n",
       "   loyalty_flag  average_price spender_flag  median_freq         freq_Flag  \\\n",
       "0  New customer       7.988889  Low spender         19.0  Regular customer   \n",
       "1  New customer       7.988889  Low spender         19.0  Regular customer   \n",
       "2  New customer       7.988889  Low spender         19.0  Regular customer   \n",
       "3  New customer       7.988889  Low spender         19.0  Regular customer   \n",
       "4  New customer       7.988889  Low spender         19.0  Regular customer   \n",
       "\n",
       "  _merge   region  orders_number  \n",
       "0   both  Midwest             18  \n",
       "1   both  Midwest             18  \n",
       "2   both  Midwest             18  \n",
       "3   both  Midwest             18  \n",
       "4   both  Midwest             18  "
      ]
     },
     "execution_count": 101,
     "metadata": {},
     "output_type": "execute_result"
    }
   ],
   "source": [
    "df_orders_products_region.head()"
   ]
  },
  {
   "cell_type": "markdown",
   "id": "102c07e4",
   "metadata": {},
   "source": [
    "### Flags for low-activity customers"
   ]
  },
  {
   "cell_type": "code",
   "execution_count": 102,
   "id": "b0f62252",
   "metadata": {},
   "outputs": [],
   "source": [
    "df_orders_products_region.loc[df_orders_products_region['orders_number'] < 5, 'exclusion flag'] = 'Low-activity'"
   ]
  },
  {
   "cell_type": "code",
   "execution_count": 103,
   "id": "e00d4c34",
   "metadata": {},
   "outputs": [],
   "source": [
    "df_orders_products_region.loc[df_orders_products_region['orders_number'] >= 5, 'exclusion flag'] = 'High-activity'"
   ]
  },
  {
   "cell_type": "code",
   "execution_count": 104,
   "id": "a6a5b926",
   "metadata": {},
   "outputs": [
    {
     "data": {
      "text/plain": [
       "exclusion flag\n",
       "High-activity    32401975\n",
       "Low-activity         2884\n",
       "Name: count, dtype: int64"
      ]
     },
     "execution_count": 104,
     "metadata": {},
     "output_type": "execute_result"
    }
   ],
   "source": [
    "df_orders_products_region['exclusion flag'].value_counts(dropna=False)"
   ]
  },
  {
   "cell_type": "code",
   "execution_count": 106,
   "id": "1b15688b",
   "metadata": {},
   "outputs": [],
   "source": [
    "# remove rows using the drop() function\n",
    "df_orders_products_region.drop(df_orders_products_region.index[df_orders_products_region['exclusion flag'] == 'Low-activity'], inplace=True)"
   ]
  },
  {
   "cell_type": "code",
   "execution_count": 107,
   "id": "21735652",
   "metadata": {},
   "outputs": [
    {
     "data": {
      "text/plain": [
       "(32401975, 29)"
      ]
     },
     "execution_count": 107,
     "metadata": {},
     "output_type": "execute_result"
    }
   ],
   "source": [
    "df_orders_products_region.shape"
   ]
  },
  {
   "cell_type": "markdown",
   "id": "9a866eee",
   "metadata": {},
   "source": [
    "### I deleted all rows with Low-activity flags. Next, I will drop the extra columns"
   ]
  },
  {
   "cell_type": "code",
   "execution_count": 108,
   "id": "72ef1ef3",
   "metadata": {},
   "outputs": [],
   "source": [
    "df_orders_products_region = df_orders_products_region.drop(columns = ['exclusion flag', 'orders_number', '_merge']) "
   ]
  },
  {
   "cell_type": "code",
   "execution_count": 109,
   "id": "cee6a018",
   "metadata": {},
   "outputs": [
    {
     "data": {
      "text/plain": [
       "(32401975, 26)"
      ]
     },
     "execution_count": 109,
     "metadata": {},
     "output_type": "execute_result"
    }
   ],
   "source": [
    "df_orders_products_region.shape"
   ]
  },
  {
   "cell_type": "code",
   "execution_count": 110,
   "id": "94e4047c",
   "metadata": {},
   "outputs": [],
   "source": [
    "# Export file\n",
    "df_orders_products_region.to_pickle(os.path.join(path, '02 Data','Prepared Data', '4_10_2_orders_products_region_NoLowAct.pkl'))"
   ]
  },
  {
   "cell_type": "code",
   "execution_count": null,
   "id": "3516855f",
   "metadata": {},
   "outputs": [],
   "source": []
  }
 ],
 "metadata": {
  "kernelspec": {
   "display_name": "Python 3 (ipykernel)",
   "language": "python",
   "name": "python3"
  },
  "language_info": {
   "codemirror_mode": {
    "name": "ipython",
    "version": 3
   },
   "file_extension": ".py",
   "mimetype": "text/x-python",
   "name": "python",
   "nbconvert_exporter": "python",
   "pygments_lexer": "ipython3",
   "version": "3.11.4"
  }
 },
 "nbformat": 4,
 "nbformat_minor": 5
}
