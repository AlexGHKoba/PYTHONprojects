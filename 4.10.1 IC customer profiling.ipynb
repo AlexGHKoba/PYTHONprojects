{
 "cells": [
  {
   "cell_type": "markdown",
   "id": "7d35532a",
   "metadata": {},
   "source": [
    "# IC customer profiling"
   ]
  },
  {
   "cell_type": "markdown",
   "id": "e80fb4aa",
   "metadata": {},
   "source": [
    "## 1. Importing libraries and dataframes"
   ]
  },
  {
   "cell_type": "code",
   "execution_count": 44,
   "id": "da4ac14f",
   "metadata": {},
   "outputs": [],
   "source": [
    "import pandas as pd\n",
    "import numpy as np\n",
    "import os\n",
    "import matplotlib.pyplot as plt\n",
    "import seaborn as sns\n",
    "import scipy\n",
    "\n",
    "path = r'C:\\Users\\User\\Instacart Basket Analysis'\n",
    "df_orders_products_all=pd.read_pickle(os.path.join(path, '02 Data', 'Prepared Data', 'orders_products_all.pkl'))"
   ]
  },
  {
   "cell_type": "markdown",
   "id": "9e9fbf6d",
   "metadata": {},
   "source": [
    "## 2. The dataframe \"df_orders_products_all\" does not contain the personally identifiable information PII because I deleted the columns 'First Name', 'Last Name', 'Gender', and 'date_joined'"
   ]
  },
  {
   "cell_type": "markdown",
   "id": "229622a5",
   "metadata": {},
   "source": [
    "## 3. Creating a “Region” column"
   ]
  },
  {
   "cell_type": "markdown",
   "id": "9b961421",
   "metadata": {},
   "source": [
    "### I will create a new dataframe \"df\" with one column 'STATE' from the dataframe \"df_orders_products_all\". Then I will create a new column 'Region' by the defined function. In conclusion I will add that column to the main dataframe."
   ]
  },
  {
   "cell_type": "code",
   "execution_count": 3,
   "id": "bf4211d7",
   "metadata": {},
   "outputs": [],
   "source": [
    "df = df_orders_products_all[['STATE']].copy()"
   ]
  },
  {
   "cell_type": "markdown",
   "id": "a2e69890",
   "metadata": {},
   "source": [
    "#### Defining the function \"reg\" for creating the new column \"Region\""
   ]
  },
  {
   "cell_type": "code",
   "execution_count": 4,
   "id": "739221eb",
   "metadata": {},
   "outputs": [],
   "source": [
    "def reg(row):\n",
    "  if row['STATE'] == 'Maine':return 'Northeast'\n",
    "  elif row['STATE'] == 'New Hampshire': return 'Northeast'\n",
    "  elif row['STATE'] == 'Vermont': return 'Northeast'\n",
    "  elif row['STATE'] == 'Massachusetts': return 'Northeast'\n",
    "  elif row['STATE'] == 'Rhode Island': return 'Northeast'\n",
    "  elif row['STATE'] == 'Connecticut': return 'Northeast'\n",
    "  elif row['STATE'] == 'New York': return 'Northeast'\n",
    "  elif row['STATE'] == 'Pennsylvania': return 'Northeast'\n",
    "  elif row['STATE'] == 'New Jersey': return 'Northeast'\n",
    "  elif row['STATE'] == 'Wisconsin': return 'Midwest'\n",
    "  elif row['STATE'] == 'Michigan': return 'Midwest'\n",
    "  elif row['STATE'] == 'Illinois': return 'Midwest'\n",
    "  elif row['STATE'] == 'Indiana': return 'Midwest'\n",
    "  elif row['STATE'] == 'Ohio': return 'Midwest'\n",
    "  elif row['STATE'] == 'North Dakota': return 'Midwest'\n",
    "  elif row['STATE'] == 'South Dakota': return 'Midwest'\n",
    "  elif row['STATE'] == 'Nebraska': return 'Midwest'\n",
    "  elif row['STATE'] == 'Kansas': return 'Midwest'\n",
    "  elif row['STATE'] == 'Minnesota': return 'Midwest'\n",
    "  elif row['STATE'] == 'Iowa': return 'Midwest'\n",
    "  elif row['STATE'] == 'Missouri': return 'Midwest'\n",
    "  elif row['STATE'] == 'Delaware': return 'South'\n",
    "  elif row['STATE'] == 'Maryland': return 'South'\n",
    "  elif row['STATE'] == 'District of Columbia': return 'South'\n",
    "  elif row['STATE'] == 'Virginia': return 'South'\n",
    "  elif row['STATE'] == 'West Virginia': return 'South'\n",
    "  elif row['STATE'] == 'North Carolina': return 'South'\n",
    "  elif row['STATE'] == 'South Carolina': return 'South'\n",
    "  elif row['STATE'] == 'Georgia': return 'South'\n",
    "  elif row['STATE'] == 'Florida': return 'South'\n",
    "  elif row['STATE'] == 'Kentucky': return 'South'\n",
    "  elif row['STATE'] == 'Tennessee': return 'South'\n",
    "  elif row['STATE'] == 'Mississippi': return 'South'\n",
    "  elif row['STATE'] == 'Alabama': return 'South'\n",
    "  elif row['STATE'] == 'Oklahoma': return 'South'\n",
    "  elif row['STATE'] == 'Texas': return 'South'\n",
    "  elif row['STATE'] == 'Arkansas': return 'South'\n",
    "  elif row['STATE'] == 'Louisiana': return 'South'\n",
    "  elif row['STATE'] == 'Idaho': return 'West'\n",
    "  elif row['STATE'] == 'Montana': return 'West)'\n",
    "  elif row['STATE'] == 'Wyoming': return 'West)'\n",
    "  elif row['STATE'] == 'Nevada': return 'West)'  \n",
    "  elif row['STATE'] == 'Utah': return 'West)'\n",
    "  elif row['STATE'] == 'Colorado': return 'West)'  \n",
    "  elif row['STATE'] == 'Arizona': return 'West)'\n",
    "  elif row['STATE'] == 'New Mexico': return 'West)'\n",
    "  elif row['STATE'] == 'Alaska': return 'West)'\n",
    "  elif row['STATE'] == 'Washington': return 'West)'\n",
    "  elif row['STATE'] == 'Oregon': return 'West)'\n",
    "  elif row['STATE'] == 'California': return 'West)'\n",
    "  elif row['STATE'] == 'Hawaii': return 'West)'  \n",
    "  else: return np.nan\n"
   ]
  },
  {
   "cell_type": "code",
   "execution_count": 5,
   "id": "376f347b",
   "metadata": {},
   "outputs": [],
   "source": [
    "df['Region'] = df.apply(reg, axis = 1)"
   ]
  },
  {
   "cell_type": "markdown",
   "id": "bba3bcda",
   "metadata": {},
   "source": [
    "#### I used the Python defined function \"reg\" and got the dataframe \"df\" with columns 'STATE' and 'Region'. "
   ]
  },
  {
   "cell_type": "code",
   "execution_count": 52,
   "id": "21abfb62",
   "metadata": {},
   "outputs": [
    {
     "data": {
      "text/html": [
       "<div>\n",
       "<style scoped>\n",
       "    .dataframe tbody tr th:only-of-type {\n",
       "        vertical-align: middle;\n",
       "    }\n",
       "\n",
       "    .dataframe tbody tr th {\n",
       "        vertical-align: top;\n",
       "    }\n",
       "\n",
       "    .dataframe thead th {\n",
       "        text-align: right;\n",
       "    }\n",
       "</style>\n",
       "<table border=\"1\" class=\"dataframe\">\n",
       "  <thead>\n",
       "    <tr style=\"text-align: right;\">\n",
       "      <th></th>\n",
       "      <th>STATE</th>\n",
       "      <th>Region</th>\n",
       "    </tr>\n",
       "  </thead>\n",
       "  <tbody>\n",
       "    <tr>\n",
       "      <th>0</th>\n",
       "      <td>Missouri</td>\n",
       "      <td>Midwest</td>\n",
       "    </tr>\n",
       "    <tr>\n",
       "      <th>1</th>\n",
       "      <td>Missouri</td>\n",
       "      <td>Midwest</td>\n",
       "    </tr>\n",
       "    <tr>\n",
       "      <th>2</th>\n",
       "      <td>Missouri</td>\n",
       "      <td>Midwest</td>\n",
       "    </tr>\n",
       "    <tr>\n",
       "      <th>3</th>\n",
       "      <td>Missouri</td>\n",
       "      <td>Midwest</td>\n",
       "    </tr>\n",
       "    <tr>\n",
       "      <th>4</th>\n",
       "      <td>Missouri</td>\n",
       "      <td>Midwest</td>\n",
       "    </tr>\n",
       "  </tbody>\n",
       "</table>\n",
       "</div>"
      ],
      "text/plain": [
       "      STATE   Region\n",
       "0  Missouri  Midwest\n",
       "1  Missouri  Midwest\n",
       "2  Missouri  Midwest\n",
       "3  Missouri  Midwest\n",
       "4  Missouri  Midwest"
      ]
     },
     "execution_count": 52,
     "metadata": {},
     "output_type": "execute_result"
    }
   ],
   "source": [
    "df.head()"
   ]
  },
  {
   "cell_type": "code",
   "execution_count": 53,
   "id": "f8e6d1b5",
   "metadata": {},
   "outputs": [
    {
     "data": {
      "text/plain": [
       "(32404859, 2)"
      ]
     },
     "execution_count": 53,
     "metadata": {},
     "output_type": "execute_result"
    }
   ],
   "source": [
    "df.shape"
   ]
  },
  {
   "cell_type": "code",
   "execution_count": 10,
   "id": "5331b7e1",
   "metadata": {},
   "outputs": [
    {
     "data": {
      "text/plain": [
       "STATE     0\n",
       "Region    0\n",
       "dtype: int64"
      ]
     },
     "execution_count": 10,
     "metadata": {},
     "output_type": "execute_result"
    }
   ],
   "source": [
    "df.isnull().sum() "
   ]
  },
  {
   "cell_type": "markdown",
   "id": "dbfea59b",
   "metadata": {},
   "source": [
    "#### The test  shows no missing data"
   ]
  },
  {
   "cell_type": "code",
   "execution_count": 72,
   "id": "c2ad6b55",
   "metadata": {},
   "outputs": [],
   "source": [
    "# Export as .pkl\n",
    "df.to_pickle(os.path.join(path, '02 Data','Prepared Data', 'states_regions.pkl'))"
   ]
  },
  {
   "cell_type": "markdown",
   "id": "6a06cf19",
   "metadata": {},
   "source": [
    "### Add the column 'Region' from df to  df_orders_products_all"
   ]
  },
  {
   "cell_type": "code",
   "execution_count": 56,
   "id": "2e049981",
   "metadata": {},
   "outputs": [],
   "source": [
    "df_orders_products_all['region'] = df['Region']"
   ]
  },
  {
   "cell_type": "code",
   "execution_count": 57,
   "id": "9cbb3b1c",
   "metadata": {},
   "outputs": [
    {
     "data": {
      "text/html": [
       "<div>\n",
       "<style scoped>\n",
       "    .dataframe tbody tr th:only-of-type {\n",
       "        vertical-align: middle;\n",
       "    }\n",
       "\n",
       "    .dataframe tbody tr th {\n",
       "        vertical-align: top;\n",
       "    }\n",
       "\n",
       "    .dataframe thead th {\n",
       "        text-align: right;\n",
       "    }\n",
       "</style>\n",
       "<table border=\"1\" class=\"dataframe\">\n",
       "  <thead>\n",
       "    <tr style=\"text-align: right;\">\n",
       "      <th></th>\n",
       "      <th>user_id</th>\n",
       "      <th>STATE</th>\n",
       "      <th>Age</th>\n",
       "      <th>n_dependants</th>\n",
       "      <th>fam_status</th>\n",
       "      <th>income</th>\n",
       "      <th>product_id</th>\n",
       "      <th>product_name</th>\n",
       "      <th>aisle_id</th>\n",
       "      <th>department_id</th>\n",
       "      <th>...</th>\n",
       "      <th>add_to_cart_order</th>\n",
       "      <th>reordered</th>\n",
       "      <th>max_order</th>\n",
       "      <th>loyalty_flag</th>\n",
       "      <th>average_price</th>\n",
       "      <th>spender_flag</th>\n",
       "      <th>median_freq</th>\n",
       "      <th>freq_Flag</th>\n",
       "      <th>_merge</th>\n",
       "      <th>region</th>\n",
       "    </tr>\n",
       "  </thead>\n",
       "  <tbody>\n",
       "    <tr>\n",
       "      <th>0</th>\n",
       "      <td>26711</td>\n",
       "      <td>Missouri</td>\n",
       "      <td>48</td>\n",
       "      <td>3</td>\n",
       "      <td>married</td>\n",
       "      <td>165665</td>\n",
       "      <td>196</td>\n",
       "      <td>Soda</td>\n",
       "      <td>77</td>\n",
       "      <td>7</td>\n",
       "      <td>...</td>\n",
       "      <td>2</td>\n",
       "      <td>0</td>\n",
       "      <td>8</td>\n",
       "      <td>New customer</td>\n",
       "      <td>7.988889</td>\n",
       "      <td>Low spender</td>\n",
       "      <td>19.0</td>\n",
       "      <td>Regular customer</td>\n",
       "      <td>both</td>\n",
       "      <td>Midwest</td>\n",
       "    </tr>\n",
       "    <tr>\n",
       "      <th>1</th>\n",
       "      <td>26711</td>\n",
       "      <td>Missouri</td>\n",
       "      <td>48</td>\n",
       "      <td>3</td>\n",
       "      <td>married</td>\n",
       "      <td>165665</td>\n",
       "      <td>196</td>\n",
       "      <td>Soda</td>\n",
       "      <td>77</td>\n",
       "      <td>7</td>\n",
       "      <td>...</td>\n",
       "      <td>1</td>\n",
       "      <td>1</td>\n",
       "      <td>8</td>\n",
       "      <td>New customer</td>\n",
       "      <td>7.988889</td>\n",
       "      <td>Low spender</td>\n",
       "      <td>19.0</td>\n",
       "      <td>Regular customer</td>\n",
       "      <td>both</td>\n",
       "      <td>Midwest</td>\n",
       "    </tr>\n",
       "    <tr>\n",
       "      <th>2</th>\n",
       "      <td>26711</td>\n",
       "      <td>Missouri</td>\n",
       "      <td>48</td>\n",
       "      <td>3</td>\n",
       "      <td>married</td>\n",
       "      <td>165665</td>\n",
       "      <td>196</td>\n",
       "      <td>Soda</td>\n",
       "      <td>77</td>\n",
       "      <td>7</td>\n",
       "      <td>...</td>\n",
       "      <td>2</td>\n",
       "      <td>1</td>\n",
       "      <td>8</td>\n",
       "      <td>New customer</td>\n",
       "      <td>7.988889</td>\n",
       "      <td>Low spender</td>\n",
       "      <td>19.0</td>\n",
       "      <td>Regular customer</td>\n",
       "      <td>both</td>\n",
       "      <td>Midwest</td>\n",
       "    </tr>\n",
       "    <tr>\n",
       "      <th>3</th>\n",
       "      <td>26711</td>\n",
       "      <td>Missouri</td>\n",
       "      <td>48</td>\n",
       "      <td>3</td>\n",
       "      <td>married</td>\n",
       "      <td>165665</td>\n",
       "      <td>6184</td>\n",
       "      <td>Clementines</td>\n",
       "      <td>32</td>\n",
       "      <td>4</td>\n",
       "      <td>...</td>\n",
       "      <td>1</td>\n",
       "      <td>0</td>\n",
       "      <td>8</td>\n",
       "      <td>New customer</td>\n",
       "      <td>7.988889</td>\n",
       "      <td>Low spender</td>\n",
       "      <td>19.0</td>\n",
       "      <td>Regular customer</td>\n",
       "      <td>both</td>\n",
       "      <td>Midwest</td>\n",
       "    </tr>\n",
       "    <tr>\n",
       "      <th>4</th>\n",
       "      <td>26711</td>\n",
       "      <td>Missouri</td>\n",
       "      <td>48</td>\n",
       "      <td>3</td>\n",
       "      <td>married</td>\n",
       "      <td>165665</td>\n",
       "      <td>6184</td>\n",
       "      <td>Clementines</td>\n",
       "      <td>32</td>\n",
       "      <td>4</td>\n",
       "      <td>...</td>\n",
       "      <td>2</td>\n",
       "      <td>1</td>\n",
       "      <td>8</td>\n",
       "      <td>New customer</td>\n",
       "      <td>7.988889</td>\n",
       "      <td>Low spender</td>\n",
       "      <td>19.0</td>\n",
       "      <td>Regular customer</td>\n",
       "      <td>both</td>\n",
       "      <td>Midwest</td>\n",
       "    </tr>\n",
       "  </tbody>\n",
       "</table>\n",
       "<p>5 rows × 27 columns</p>\n",
       "</div>"
      ],
      "text/plain": [
       "   user_id     STATE  Age  n_dependants fam_status  income  product_id  \\\n",
       "0    26711  Missouri   48             3    married  165665         196   \n",
       "1    26711  Missouri   48             3    married  165665         196   \n",
       "2    26711  Missouri   48             3    married  165665         196   \n",
       "3    26711  Missouri   48             3    married  165665        6184   \n",
       "4    26711  Missouri   48             3    married  165665        6184   \n",
       "\n",
       "  product_name  aisle_id  department_id  ...  add_to_cart_order  reordered  \\\n",
       "0         Soda        77              7  ...                  2          0   \n",
       "1         Soda        77              7  ...                  1          1   \n",
       "2         Soda        77              7  ...                  2          1   \n",
       "3  Clementines        32              4  ...                  1          0   \n",
       "4  Clementines        32              4  ...                  2          1   \n",
       "\n",
       "   max_order  loyalty_flag  average_price  spender_flag  median_freq  \\\n",
       "0          8  New customer       7.988889   Low spender         19.0   \n",
       "1          8  New customer       7.988889   Low spender         19.0   \n",
       "2          8  New customer       7.988889   Low spender         19.0   \n",
       "3          8  New customer       7.988889   Low spender         19.0   \n",
       "4          8  New customer       7.988889   Low spender         19.0   \n",
       "\n",
       "          freq_Flag  _merge   region  \n",
       "0  Regular customer    both  Midwest  \n",
       "1  Regular customer    both  Midwest  \n",
       "2  Regular customer    both  Midwest  \n",
       "3  Regular customer    both  Midwest  \n",
       "4  Regular customer    both  Midwest  \n",
       "\n",
       "[5 rows x 27 columns]"
      ]
     },
     "execution_count": 57,
     "metadata": {},
     "output_type": "execute_result"
    }
   ],
   "source": [
    "df_orders_products_all.head()"
   ]
  },
  {
   "cell_type": "code",
   "execution_count": 58,
   "id": "dec62655",
   "metadata": {},
   "outputs": [
    {
     "data": {
      "text/plain": [
       "region\n",
       "South        10791885\n",
       "West)         7685794\n",
       "Midwest       7597325\n",
       "Northeast     5722736\n",
       "West           607119\n",
       "Name: count, dtype: int64"
      ]
     },
     "execution_count": 58,
     "metadata": {},
     "output_type": "execute_result"
    }
   ],
   "source": [
    "df_orders_products_all['region'].value_counts(dropna = False) "
   ]
  },
  {
   "cell_type": "markdown",
   "id": "27177279",
   "metadata": {},
   "source": [
    "####  I see errors - 'West)' - can be West. I fixed it."
   ]
  },
  {
   "cell_type": "code",
   "execution_count": 60,
   "id": "f64f9cfd",
   "metadata": {},
   "outputs": [],
   "source": [
    "df_orders_products_all.loc[df_orders_products_all['region'] == 'West)', ['region']] = 'West'"
   ]
  },
  {
   "cell_type": "code",
   "execution_count": 61,
   "id": "93d0e4c2",
   "metadata": {},
   "outputs": [
    {
     "data": {
      "text/plain": [
       "region\n",
       "South        10791885\n",
       "West          8292913\n",
       "Midwest       7597325\n",
       "Northeast     5722736\n",
       "Name: count, dtype: int64"
      ]
     },
     "execution_count": 61,
     "metadata": {},
     "output_type": "execute_result"
    }
   ],
   "source": [
    "df_orders_products_all['region'].value_counts(dropna = False) "
   ]
  },
  {
   "cell_type": "code",
   "execution_count": 62,
   "id": "e9f9d094",
   "metadata": {},
   "outputs": [
    {
     "data": {
      "text/plain": [
       "spender_flag\n",
       "Low spender     31770614\n",
       "High spender      634245\n",
       "Name: count, dtype: int64"
      ]
     },
     "execution_count": 62,
     "metadata": {},
     "output_type": "execute_result"
    }
   ],
   "source": [
    "df_orders_products_all['spender_flag'].value_counts(dropna = False) "
   ]
  },
  {
   "cell_type": "markdown",
   "id": "99f7e036",
   "metadata": {},
   "source": [
    "### The final dataframe is df_orders_products_region"
   ]
  },
  {
   "cell_type": "code",
   "execution_count": 63,
   "id": "f39b6672",
   "metadata": {},
   "outputs": [],
   "source": [
    "df_orders_products_region = df_orders_products_all"
   ]
  },
  {
   "cell_type": "code",
   "execution_count": 64,
   "id": "b943a363",
   "metadata": {},
   "outputs": [],
   "source": [
    "# Export the new dataframe df_orders_products_region as .pkl\n",
    "df_orders_products_region.to_pickle(os.path.join(path, '02 Data','Prepared Data', 'orders_products_region.pkl'))"
   ]
  },
  {
   "cell_type": "markdown",
   "id": "ea5d1a3a",
   "metadata": {},
   "source": [
    "## Spending habits in different U.S. regions"
   ]
  },
  {
   "cell_type": "markdown",
   "id": "29f7e5a8",
   "metadata": {},
   "source": [
    "#### Crosstab for 'region' and 'spender_flag' "
   ]
  },
  {
   "cell_type": "code",
   "execution_count": 65,
   "id": "ac3fec55",
   "metadata": {},
   "outputs": [],
   "source": [
    "a=df_orders_products_region['region']\n",
    "b=df_orders_products_region['spender_flag']\n",
    "df_cross = pd.crosstab(a, b, rownames=[\"a\"], colnames=[\"b\"])"
   ]
  },
  {
   "cell_type": "code",
   "execution_count": 66,
   "id": "88b1d8dd",
   "metadata": {},
   "outputs": [
    {
     "data": {
      "text/html": [
       "<div>\n",
       "<style scoped>\n",
       "    .dataframe tbody tr th:only-of-type {\n",
       "        vertical-align: middle;\n",
       "    }\n",
       "\n",
       "    .dataframe tbody tr th {\n",
       "        vertical-align: top;\n",
       "    }\n",
       "\n",
       "    .dataframe thead th {\n",
       "        text-align: right;\n",
       "    }\n",
       "</style>\n",
       "<table border=\"1\" class=\"dataframe\">\n",
       "  <thead>\n",
       "    <tr style=\"text-align: right;\">\n",
       "      <th>b</th>\n",
       "      <th>High spender</th>\n",
       "      <th>Low spender</th>\n",
       "    </tr>\n",
       "    <tr>\n",
       "      <th>a</th>\n",
       "      <th></th>\n",
       "      <th></th>\n",
       "    </tr>\n",
       "  </thead>\n",
       "  <tbody>\n",
       "    <tr>\n",
       "      <th>Midwest</th>\n",
       "      <td>155975</td>\n",
       "      <td>7441350</td>\n",
       "    </tr>\n",
       "    <tr>\n",
       "      <th>Northeast</th>\n",
       "      <td>108225</td>\n",
       "      <td>5614511</td>\n",
       "    </tr>\n",
       "    <tr>\n",
       "      <th>South</th>\n",
       "      <td>209691</td>\n",
       "      <td>10582194</td>\n",
       "    </tr>\n",
       "    <tr>\n",
       "      <th>West</th>\n",
       "      <td>160354</td>\n",
       "      <td>8132559</td>\n",
       "    </tr>\n",
       "  </tbody>\n",
       "</table>\n",
       "</div>"
      ],
      "text/plain": [
       "b          High spender  Low spender\n",
       "a                                   \n",
       "Midwest          155975      7441350\n",
       "Northeast        108225      5614511\n",
       "South            209691     10582194\n",
       "West             160354      8132559"
      ]
     },
     "execution_count": 66,
     "metadata": {},
     "output_type": "execute_result"
    }
   ],
   "source": [
    "df_cross"
   ]
  },
  {
   "cell_type": "markdown",
   "id": "b5194d4a",
   "metadata": {},
   "source": [
    "###  "
   ]
  },
  {
   "cell_type": "code",
   "execution_count": 71,
   "id": "87455e75",
   "metadata": {},
   "outputs": [
    {
     "data": {
      "image/png": "[encoded data removed]",
      "text/plain": [
       "<Figure size 1500x1000 with 1 Axes>"
      ]
     },
     "metadata": {},
     "output_type": "display_data"
    }
   ],
   "source": [
    "ax = df_cross[['High spender','Low spender']].plot(kind='bar', title =\"Spending habits in different U.S. regions\", figsize=(15, 10), legend=True, fontsize=12)\n",
    "ax.set_xlabel(\"region\", fontsize=16)\n",
    "ax.set_ylabel(\"count\", fontsize=16)\n",
    "plt.show()"
   ]
  },
  {
   "cell_type": "markdown",
   "id": "b60ee19a",
   "metadata": {},
   "source": [
    "###  We see that in all regions the count of High spenders is much lower than the count of low spenders. The South region has a bigger general count of buyers.  "
   ]
  },
  {
   "cell_type": "code",
   "execution_count": null,
   "id": "197a04bd",
   "metadata": {},
   "outputs": [],
   "source": []
  }
 ],
 "metadata": {
  "kernelspec": {
   "display_name": "Python 3 (ipykernel)",
   "language": "python",
   "name": "python3"
  },
  "language_info": {
   "codemirror_mode": {
    "name": "ipython",
    "version": 3
   },
   "file_extension": ".py",
   "mimetype": "text/x-python",
   "name": "python",
   "nbconvert_exporter": "python",
   "pygments_lexer": "ipython3",
   "version": "3.11.4"
  }
 },
 "nbformat": 4,
 "nbformat_minor": 5
}
