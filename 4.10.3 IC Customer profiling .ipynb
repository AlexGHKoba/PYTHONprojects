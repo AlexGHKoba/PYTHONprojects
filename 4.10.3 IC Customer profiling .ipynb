{
 "cells": [
  {
   "cell_type": "markdown",
   "id": "cd3eb379",
   "metadata": {},
   "source": [
    "## Part 1 steps 5 - 10"
   ]
  },
  {
   "cell_type": "code",
   "execution_count": 24,
   "id": "87063b96",
   "metadata": {},
   "outputs": [],
   "source": [
    "import pandas as pd\n",
    "import numpy as np\n",
    "import os\n",
    "import matplotlib.pyplot as plt\n",
    "import seaborn as sns\n",
    "import scipy\n",
    "\n",
    "path = r'C:\\Users\\User\\Instacart Basket Analysis'\n",
    "df_orders_products_region = pd.read_pickle(os.path.join(path, '02 Data', 'Prepared Data', '4_10_3_orders_products_region_add.pkl'))"
   ]
  },
  {
   "cell_type": "markdown",
   "id": "35cdeb9c",
   "metadata": {},
   "source": [
    "### I want to select the variables I need for the task of customer profiling"
   ]
  },
  {
   "cell_type": "code",
   "execution_count": 3,
   "id": "643a824a",
   "metadata": {},
   "outputs": [
    {
     "data": {
      "text/plain": [
       "Index(['user_id', 'STATE', 'Age', 'n_dependants', 'fam_status', 'income',\n",
       "       'product_id', 'product_name', 'aisle_id', 'department_id', 'prices',\n",
       "       'order_id', 'order_number', 'orders_day_of_the_week',\n",
       "       'order_hour_of_day', 'days_since_prior_order',\n",
       "       'days_since_prior_order_Flag', 'add_to_cart_order', 'reordered',\n",
       "       'max_order', 'loyalty_flag', 'average_price', 'spender_flag',\n",
       "       'median_freq', 'freq_Flag', 'region'],\n",
       "      dtype='object')"
      ]
     },
     "execution_count": 3,
     "metadata": {},
     "output_type": "execute_result"
    }
   ],
   "source": [
    "df_orders_products_region.columns"
   ]
  },
  {
   "cell_type": "markdown",
   "id": "9b961f6c",
   "metadata": {},
   "source": [
    "### I will drop unnessesary now for profiling columns"
   ]
  },
  {
   "cell_type": "code",
   "execution_count": 4,
   "id": "a205172e",
   "metadata": {},
   "outputs": [],
   "source": [
    "# Drop unnessesary columns\n",
    "df_orders_products_region = df_orders_products_region.drop(columns = ['product_id', 'aisle_id', 'add_to_cart_order', \n",
    "                                                                      'reordered', 'max_order', 'average_price'])"
   ]
  },
  {
   "cell_type": "code",
   "execution_count": 4,
   "id": "381dbe2e",
   "metadata": {},
   "outputs": [
    {
     "data": {
      "text/plain": [
       "(32401975, 21)"
      ]
     },
     "execution_count": 4,
     "metadata": {},
     "output_type": "execute_result"
    }
   ],
   "source": [
    "df_orders_products_region.shape"
   ]
  },
  {
   "cell_type": "code",
   "execution_count": 6,
   "id": "255b24a3",
   "metadata": {},
   "outputs": [
    {
     "data": {
      "text/plain": [
       "Index(['user_id', 'STATE', 'Age', 'n_dependants', 'fam_status', 'income',\n",
       "       'product_name', 'department_id', 'prices', 'order_id', 'order_number',\n",
       "       'orders_day_of_the_week', 'order_hour_of_day', 'days_since_prior_order',\n",
       "       'days_since_prior_order_Flag', 'loyalty_flag', 'spender_flag',\n",
       "       'median_freq', 'freq_Flag', 'region'],\n",
       "      dtype='object')"
      ]
     },
     "execution_count": 6,
     "metadata": {},
     "output_type": "execute_result"
    }
   ],
   "source": [
    "df_orders_products_region.columns"
   ]
  },
  {
   "cell_type": "code",
   "execution_count": 7,
   "id": "9338487b",
   "metadata": {},
   "outputs": [],
   "source": [
    "# Export file\n",
    "df_orders_products_region.to_pickle(os.path.join(path, '02 Data','Prepared Data', '4_10_3_orders_products_region.pkl'))"
   ]
  },
  {
   "cell_type": "markdown",
   "id": "694e1f36",
   "metadata": {},
   "source": [
    "### Profiling statistics"
   ]
  },
  {
   "cell_type": "markdown",
   "id": "501debc1",
   "metadata": {},
   "source": [
    "#### First, I will create the corr_matrix for numeric only columns"
   ]
  },
  {
   "cell_type": "code",
   "execution_count": 9,
   "id": "e5be03e8",
   "metadata": {},
   "outputs": [],
   "source": [
    "corr_matrix = df_orders_products_region.corr(numeric_only=True)"
   ]
  },
  {
   "cell_type": "code",
   "execution_count": 10,
   "id": "aa654a11",
   "metadata": {},
   "outputs": [
    {
     "data": {
      "text/html": [
       "<div>\n",
       "<style scoped>\n",
       "    .dataframe tbody tr th:only-of-type {\n",
       "        vertical-align: middle;\n",
       "    }\n",
       "\n",
       "    .dataframe tbody tr th {\n",
       "        vertical-align: top;\n",
       "    }\n",
       "\n",
       "    .dataframe thead th {\n",
       "        text-align: right;\n",
       "    }\n",
       "</style>\n",
       "<table border=\"1\" class=\"dataframe\">\n",
       "  <thead>\n",
       "    <tr style=\"text-align: right;\">\n",
       "      <th></th>\n",
       "      <th>user_id</th>\n",
       "      <th>Age</th>\n",
       "      <th>n_dependants</th>\n",
       "      <th>income</th>\n",
       "      <th>department_id</th>\n",
       "      <th>prices</th>\n",
       "      <th>order_id</th>\n",
       "      <th>order_number</th>\n",
       "      <th>orders_day_of_the_week</th>\n",
       "      <th>order_hour_of_day</th>\n",
       "      <th>days_since_prior_order</th>\n",
       "      <th>days_since_prior_order_Flag</th>\n",
       "      <th>median_freq</th>\n",
       "    </tr>\n",
       "  </thead>\n",
       "  <tbody>\n",
       "    <tr>\n",
       "      <th>user_id</th>\n",
       "      <td>1.000000</td>\n",
       "      <td>-0.001398</td>\n",
       "      <td>-0.003192</td>\n",
       "      <td>0.002574</td>\n",
       "      <td>0.000053</td>\n",
       "      <td>-0.000172</td>\n",
       "      <td>-0.000487</td>\n",
       "      <td>-0.000770</td>\n",
       "      <td>-0.001631</td>\n",
       "      <td>-0.000404</td>\n",
       "      <td>0.000556</td>\n",
       "      <td>0.000214</td>\n",
       "      <td>0.000935</td>\n",
       "    </tr>\n",
       "    <tr>\n",
       "      <th>Age</th>\n",
       "      <td>-0.001398</td>\n",
       "      <td>1.000000</td>\n",
       "      <td>-0.000417</td>\n",
       "      <td>0.417259</td>\n",
       "      <td>-0.001429</td>\n",
       "      <td>0.000649</td>\n",
       "      <td>-0.000483</td>\n",
       "      <td>-0.000367</td>\n",
       "      <td>0.002139</td>\n",
       "      <td>0.001872</td>\n",
       "      <td>-0.001096</td>\n",
       "      <td>0.000168</td>\n",
       "      <td>-0.001177</td>\n",
       "    </tr>\n",
       "    <tr>\n",
       "      <th>n_dependants</th>\n",
       "      <td>-0.003192</td>\n",
       "      <td>-0.000417</td>\n",
       "      <td>1.000000</td>\n",
       "      <td>-0.001395</td>\n",
       "      <td>0.000189</td>\n",
       "      <td>-0.000011</td>\n",
       "      <td>-0.001557</td>\n",
       "      <td>-0.002540</td>\n",
       "      <td>-0.000482</td>\n",
       "      <td>0.000869</td>\n",
       "      <td>0.001433</td>\n",
       "      <td>-0.000215</td>\n",
       "      <td>0.001058</td>\n",
       "    </tr>\n",
       "    <tr>\n",
       "      <th>income</th>\n",
       "      <td>0.002574</td>\n",
       "      <td>0.417259</td>\n",
       "      <td>-0.001395</td>\n",
       "      <td>1.000000</td>\n",
       "      <td>-0.021390</td>\n",
       "      <td>0.051938</td>\n",
       "      <td>-0.000921</td>\n",
       "      <td>0.016957</td>\n",
       "      <td>0.001805</td>\n",
       "      <td>0.008537</td>\n",
       "      <td>-0.014080</td>\n",
       "      <td>-0.009044</td>\n",
       "      <td>-0.025864</td>\n",
       "    </tr>\n",
       "    <tr>\n",
       "      <th>department_id</th>\n",
       "      <td>0.000053</td>\n",
       "      <td>-0.001429</td>\n",
       "      <td>0.000189</td>\n",
       "      <td>-0.021390</td>\n",
       "      <td>1.000000</td>\n",
       "      <td>-0.083490</td>\n",
       "      <td>-0.000232</td>\n",
       "      <td>0.000562</td>\n",
       "      <td>0.004427</td>\n",
       "      <td>-0.008858</td>\n",
       "      <td>0.000560</td>\n",
       "      <td>-0.001365</td>\n",
       "      <td>0.000743</td>\n",
       "    </tr>\n",
       "    <tr>\n",
       "      <th>prices</th>\n",
       "      <td>-0.000172</td>\n",
       "      <td>0.000649</td>\n",
       "      <td>-0.000011</td>\n",
       "      <td>0.051938</td>\n",
       "      <td>-0.083490</td>\n",
       "      <td>1.000000</td>\n",
       "      <td>0.000240</td>\n",
       "      <td>-0.001336</td>\n",
       "      <td>-0.000714</td>\n",
       "      <td>0.002223</td>\n",
       "      <td>0.001022</td>\n",
       "      <td>-0.000406</td>\n",
       "      <td>-0.000520</td>\n",
       "    </tr>\n",
       "    <tr>\n",
       "      <th>order_id</th>\n",
       "      <td>-0.000487</td>\n",
       "      <td>-0.000483</td>\n",
       "      <td>-0.001557</td>\n",
       "      <td>-0.000921</td>\n",
       "      <td>-0.000232</td>\n",
       "      <td>0.000240</td>\n",
       "      <td>1.000000</td>\n",
       "      <td>-0.000545</td>\n",
       "      <td>0.001210</td>\n",
       "      <td>0.000654</td>\n",
       "      <td>0.000725</td>\n",
       "      <td>0.000044</td>\n",
       "      <td>0.000257</td>\n",
       "    </tr>\n",
       "    <tr>\n",
       "      <th>order_number</th>\n",
       "      <td>-0.000770</td>\n",
       "      <td>-0.000367</td>\n",
       "      <td>-0.002540</td>\n",
       "      <td>0.016957</td>\n",
       "      <td>0.000562</td>\n",
       "      <td>-0.001336</td>\n",
       "      <td>-0.000545</td>\n",
       "      <td>1.000000</td>\n",
       "      <td>0.015210</td>\n",
       "      <td>-0.040039</td>\n",
       "      <td>-0.358401</td>\n",
       "      <td>-0.240822</td>\n",
       "      <td>-0.452782</td>\n",
       "    </tr>\n",
       "    <tr>\n",
       "      <th>orders_day_of_the_week</th>\n",
       "      <td>-0.001631</td>\n",
       "      <td>0.002139</td>\n",
       "      <td>-0.000482</td>\n",
       "      <td>0.001805</td>\n",
       "      <td>0.004427</td>\n",
       "      <td>-0.000714</td>\n",
       "      <td>0.001210</td>\n",
       "      <td>0.015210</td>\n",
       "      <td>1.000000</td>\n",
       "      <td>0.012166</td>\n",
       "      <td>-0.030008</td>\n",
       "      <td>-0.003598</td>\n",
       "      <td>-0.021711</td>\n",
       "    </tr>\n",
       "    <tr>\n",
       "      <th>order_hour_of_day</th>\n",
       "      <td>-0.000404</td>\n",
       "      <td>0.001872</td>\n",
       "      <td>0.000869</td>\n",
       "      <td>0.008537</td>\n",
       "      <td>-0.008858</td>\n",
       "      <td>0.002223</td>\n",
       "      <td>0.000654</td>\n",
       "      <td>-0.040039</td>\n",
       "      <td>0.012166</td>\n",
       "      <td>1.000000</td>\n",
       "      <td>0.003880</td>\n",
       "      <td>0.012359</td>\n",
       "      <td>0.038743</td>\n",
       "    </tr>\n",
       "    <tr>\n",
       "      <th>days_since_prior_order</th>\n",
       "      <td>0.000556</td>\n",
       "      <td>-0.001096</td>\n",
       "      <td>0.001433</td>\n",
       "      <td>-0.014080</td>\n",
       "      <td>0.000560</td>\n",
       "      <td>0.001022</td>\n",
       "      <td>0.000725</td>\n",
       "      <td>-0.358401</td>\n",
       "      <td>-0.030008</td>\n",
       "      <td>0.003880</td>\n",
       "      <td>1.000000</td>\n",
       "      <td>NaN</td>\n",
       "      <td>0.632013</td>\n",
       "    </tr>\n",
       "    <tr>\n",
       "      <th>days_since_prior_order_Flag</th>\n",
       "      <td>0.000214</td>\n",
       "      <td>0.000168</td>\n",
       "      <td>-0.000215</td>\n",
       "      <td>-0.009044</td>\n",
       "      <td>-0.001365</td>\n",
       "      <td>-0.000406</td>\n",
       "      <td>0.000044</td>\n",
       "      <td>-0.240822</td>\n",
       "      <td>-0.003598</td>\n",
       "      <td>0.012359</td>\n",
       "      <td>NaN</td>\n",
       "      <td>1.000000</td>\n",
       "      <td>0.165854</td>\n",
       "    </tr>\n",
       "    <tr>\n",
       "      <th>median_freq</th>\n",
       "      <td>0.000935</td>\n",
       "      <td>-0.001177</td>\n",
       "      <td>0.001058</td>\n",
       "      <td>-0.025864</td>\n",
       "      <td>0.000743</td>\n",
       "      <td>-0.000520</td>\n",
       "      <td>0.000257</td>\n",
       "      <td>-0.452782</td>\n",
       "      <td>-0.021711</td>\n",
       "      <td>0.038743</td>\n",
       "      <td>0.632013</td>\n",
       "      <td>0.165854</td>\n",
       "      <td>1.000000</td>\n",
       "    </tr>\n",
       "  </tbody>\n",
       "</table>\n",
       "</div>"
      ],
      "text/plain": [
       "                              user_id       Age  n_dependants    income  \\\n",
       "user_id                      1.000000 -0.001398     -0.003192  0.002574   \n",
       "Age                         -0.001398  1.000000     -0.000417  0.417259   \n",
       "n_dependants                -0.003192 -0.000417      1.000000 -0.001395   \n",
       "income                       0.002574  0.417259     -0.001395  1.000000   \n",
       "department_id                0.000053 -0.001429      0.000189 -0.021390   \n",
       "prices                      -0.000172  0.000649     -0.000011  0.051938   \n",
       "order_id                    -0.000487 -0.000483     -0.001557 -0.000921   \n",
       "order_number                -0.000770 -0.000367     -0.002540  0.016957   \n",
       "orders_day_of_the_week      -0.001631  0.002139     -0.000482  0.001805   \n",
       "order_hour_of_day           -0.000404  0.001872      0.000869  0.008537   \n",
       "days_since_prior_order       0.000556 -0.001096      0.001433 -0.014080   \n",
       "days_since_prior_order_Flag  0.000214  0.000168     -0.000215 -0.009044   \n",
       "median_freq                  0.000935 -0.001177      0.001058 -0.025864   \n",
       "\n",
       "                             department_id    prices  order_id  order_number  \\\n",
       "user_id                           0.000053 -0.000172 -0.000487     -0.000770   \n",
       "Age                              -0.001429  0.000649 -0.000483     -0.000367   \n",
       "n_dependants                      0.000189 -0.000011 -0.001557     -0.002540   \n",
       "income                           -0.021390  0.051938 -0.000921      0.016957   \n",
       "department_id                     1.000000 -0.083490 -0.000232      0.000562   \n",
       "prices                           -0.083490  1.000000  0.000240     -0.001336   \n",
       "order_id                         -0.000232  0.000240  1.000000     -0.000545   \n",
       "order_number                      0.000562 -0.001336 -0.000545      1.000000   \n",
       "orders_day_of_the_week            0.004427 -0.000714  0.001210      0.015210   \n",
       "order_hour_of_day                -0.008858  0.002223  0.000654     -0.040039   \n",
       "days_since_prior_order            0.000560  0.001022  0.000725     -0.358401   \n",
       "days_since_prior_order_Flag      -0.001365 -0.000406  0.000044     -0.240822   \n",
       "median_freq                       0.000743 -0.000520  0.000257     -0.452782   \n",
       "\n",
       "                             orders_day_of_the_week  order_hour_of_day  \\\n",
       "user_id                                   -0.001631          -0.000404   \n",
       "Age                                        0.002139           0.001872   \n",
       "n_dependants                              -0.000482           0.000869   \n",
       "income                                     0.001805           0.008537   \n",
       "department_id                              0.004427          -0.008858   \n",
       "prices                                    -0.000714           0.002223   \n",
       "order_id                                   0.001210           0.000654   \n",
       "order_number                               0.015210          -0.040039   \n",
       "orders_day_of_the_week                     1.000000           0.012166   \n",
       "order_hour_of_day                          0.012166           1.000000   \n",
       "days_since_prior_order                    -0.030008           0.003880   \n",
       "days_since_prior_order_Flag               -0.003598           0.012359   \n",
       "median_freq                               -0.021711           0.038743   \n",
       "\n",
       "                             days_since_prior_order  \\\n",
       "user_id                                    0.000556   \n",
       "Age                                       -0.001096   \n",
       "n_dependants                               0.001433   \n",
       "income                                    -0.014080   \n",
       "department_id                              0.000560   \n",
       "prices                                     0.001022   \n",
       "order_id                                   0.000725   \n",
       "order_number                              -0.358401   \n",
       "orders_day_of_the_week                    -0.030008   \n",
       "order_hour_of_day                          0.003880   \n",
       "days_since_prior_order                     1.000000   \n",
       "days_since_prior_order_Flag                     NaN   \n",
       "median_freq                                0.632013   \n",
       "\n",
       "                             days_since_prior_order_Flag  median_freq  \n",
       "user_id                                         0.000214     0.000935  \n",
       "Age                                             0.000168    -0.001177  \n",
       "n_dependants                                   -0.000215     0.001058  \n",
       "income                                         -0.009044    -0.025864  \n",
       "department_id                                  -0.001365     0.000743  \n",
       "prices                                         -0.000406    -0.000520  \n",
       "order_id                                        0.000044     0.000257  \n",
       "order_number                                   -0.240822    -0.452782  \n",
       "orders_day_of_the_week                         -0.003598    -0.021711  \n",
       "order_hour_of_day                               0.012359     0.038743  \n",
       "days_since_prior_order                               NaN     0.632013  \n",
       "days_since_prior_order_Flag                     1.000000     0.165854  \n",
       "median_freq                                     0.165854     1.000000  "
      ]
     },
     "execution_count": 10,
     "metadata": {},
     "output_type": "execute_result"
    }
   ],
   "source": [
    "corr_matrix"
   ]
  },
  {
   "cell_type": "markdown",
   "id": "07a86ab1",
   "metadata": {},
   "source": [
    "#### Significant correlation coefficients have the next columns: 1. Age/income (0.417259), 2. order_number/days_since_prior_order (-0.358401), 3. order_number/median_freq (-0.452782), 4. days_since_prior_order/median_freq (0.632013). The correlation 1. is understandable. The correlation 4. is result of my previous calculation for the median_freq. The correlations 2. and 3. are  are difficult to explain."
   ]
  },
  {
   "cell_type": "markdown",
   "id": "7df8b00d",
   "metadata": {},
   "source": [
    "### Age/income line chart "
   ]
  },
  {
   "cell_type": "code",
   "execution_count": 12,
   "id": "ed55d415",
   "metadata": {},
   "outputs": [
    {
     "data": {
      "image/png": "[encoded data removed]",
      "text/plain": [
       "<Figure size 640x480 with 1 Axes>"
      ]
     },
     "metadata": {},
     "output_type": "display_data"
    }
   ],
   "source": [
    "line_Age_income = sns.lineplot(data = df_orders_products_region, x = 'Age', y = 'income')"
   ]
  },
  {
   "cell_type": "markdown",
   "id": "9cb9cd4f",
   "metadata": {},
   "source": [
    "#### We see the real difference in income."
   ]
  },
  {
   "cell_type": "code",
   "execution_count": 14,
   "id": "3d4600de",
   "metadata": {},
   "outputs": [],
   "source": [
    "# Export the chart\n",
    "line_Age_income.figure.savefig(os.path.join(path, '04 Analysis','Visualizations', 'line_Age_income.png'))"
   ]
  },
  {
   "cell_type": "markdown",
   "id": "8cfd688a",
   "metadata": {},
   "source": [
    "### I will create a new variable 'order_cost' as product 'prices' * 'order_number'"
   ]
  },
  {
   "cell_type": "code",
   "execution_count": 25,
   "id": "8173bfce",
   "metadata": {},
   "outputs": [],
   "source": [
    "df_orders_products_region = pd.read_pickle(os.path.join(path, '02 Data', 'Prepared Data', '4_10_3_orders_products_region.pkl'))"
   ]
  },
  {
   "cell_type": "code",
   "execution_count": 26,
   "id": "300515c7",
   "metadata": {},
   "outputs": [],
   "source": [
    "df_orders_products_region['order_cost'] = df_orders_products_region.apply(lambda row: row['prices'] * row['order_number'], axis=1)"
   ]
  },
  {
   "cell_type": "code",
   "execution_count": 27,
   "id": "1161c816",
   "metadata": {},
   "outputs": [
    {
     "data": {
      "text/html": [
       "<div>\n",
       "<style scoped>\n",
       "    .dataframe tbody tr th:only-of-type {\n",
       "        vertical-align: middle;\n",
       "    }\n",
       "\n",
       "    .dataframe tbody tr th {\n",
       "        vertical-align: top;\n",
       "    }\n",
       "\n",
       "    .dataframe thead th {\n",
       "        text-align: right;\n",
       "    }\n",
       "</style>\n",
       "<table border=\"1\" class=\"dataframe\">\n",
       "  <thead>\n",
       "    <tr style=\"text-align: right;\">\n",
       "      <th></th>\n",
       "      <th>user_id</th>\n",
       "      <th>STATE</th>\n",
       "      <th>Age</th>\n",
       "      <th>n_dependants</th>\n",
       "      <th>fam_status</th>\n",
       "      <th>income</th>\n",
       "      <th>product_name</th>\n",
       "      <th>department_id</th>\n",
       "      <th>prices</th>\n",
       "      <th>order_id</th>\n",
       "      <th>...</th>\n",
       "      <th>orders_day_of_the_week</th>\n",
       "      <th>order_hour_of_day</th>\n",
       "      <th>days_since_prior_order</th>\n",
       "      <th>days_since_prior_order_Flag</th>\n",
       "      <th>loyalty_flag</th>\n",
       "      <th>spender_flag</th>\n",
       "      <th>median_freq</th>\n",
       "      <th>freq_Flag</th>\n",
       "      <th>region</th>\n",
       "      <th>order_cost</th>\n",
       "    </tr>\n",
       "  </thead>\n",
       "  <tbody>\n",
       "    <tr>\n",
       "      <th>0</th>\n",
       "      <td>26711</td>\n",
       "      <td>Missouri</td>\n",
       "      <td>48</td>\n",
       "      <td>3</td>\n",
       "      <td>married</td>\n",
       "      <td>165665</td>\n",
       "      <td>Soda</td>\n",
       "      <td>7</td>\n",
       "      <td>9.0</td>\n",
       "      <td>2543867</td>\n",
       "      <td>...</td>\n",
       "      <td>1</td>\n",
       "      <td>9</td>\n",
       "      <td>30.0</td>\n",
       "      <td>False</td>\n",
       "      <td>New customer</td>\n",
       "      <td>Low spender</td>\n",
       "      <td>19.0</td>\n",
       "      <td>Regular customer</td>\n",
       "      <td>Midwest</td>\n",
       "      <td>45.0</td>\n",
       "    </tr>\n",
       "    <tr>\n",
       "      <th>1</th>\n",
       "      <td>26711</td>\n",
       "      <td>Missouri</td>\n",
       "      <td>48</td>\n",
       "      <td>3</td>\n",
       "      <td>married</td>\n",
       "      <td>165665</td>\n",
       "      <td>Soda</td>\n",
       "      <td>7</td>\n",
       "      <td>9.0</td>\n",
       "      <td>1285508</td>\n",
       "      <td>...</td>\n",
       "      <td>5</td>\n",
       "      <td>15</td>\n",
       "      <td>11.0</td>\n",
       "      <td>False</td>\n",
       "      <td>New customer</td>\n",
       "      <td>Low spender</td>\n",
       "      <td>19.0</td>\n",
       "      <td>Regular customer</td>\n",
       "      <td>Midwest</td>\n",
       "      <td>63.0</td>\n",
       "    </tr>\n",
       "    <tr>\n",
       "      <th>2</th>\n",
       "      <td>26711</td>\n",
       "      <td>Missouri</td>\n",
       "      <td>48</td>\n",
       "      <td>3</td>\n",
       "      <td>married</td>\n",
       "      <td>165665</td>\n",
       "      <td>Soda</td>\n",
       "      <td>7</td>\n",
       "      <td>9.0</td>\n",
       "      <td>2578584</td>\n",
       "      <td>...</td>\n",
       "      <td>1</td>\n",
       "      <td>15</td>\n",
       "      <td>10.0</td>\n",
       "      <td>False</td>\n",
       "      <td>New customer</td>\n",
       "      <td>Low spender</td>\n",
       "      <td>19.0</td>\n",
       "      <td>Regular customer</td>\n",
       "      <td>Midwest</td>\n",
       "      <td>72.0</td>\n",
       "    </tr>\n",
       "  </tbody>\n",
       "</table>\n",
       "<p>3 rows × 21 columns</p>\n",
       "</div>"
      ],
      "text/plain": [
       "   user_id     STATE  Age  n_dependants fam_status  income product_name  \\\n",
       "0    26711  Missouri   48             3    married  165665         Soda   \n",
       "1    26711  Missouri   48             3    married  165665         Soda   \n",
       "2    26711  Missouri   48             3    married  165665         Soda   \n",
       "\n",
       "   department_id  prices  order_id  ...  orders_day_of_the_week  \\\n",
       "0              7     9.0   2543867  ...                       1   \n",
       "1              7     9.0   1285508  ...                       5   \n",
       "2              7     9.0   2578584  ...                       1   \n",
       "\n",
       "   order_hour_of_day  days_since_prior_order  days_since_prior_order_Flag  \\\n",
       "0                  9                    30.0                        False   \n",
       "1                 15                    11.0                        False   \n",
       "2                 15                    10.0                        False   \n",
       "\n",
       "   loyalty_flag spender_flag median_freq         freq_Flag   region order_cost  \n",
       "0  New customer  Low spender        19.0  Regular customer  Midwest       45.0  \n",
       "1  New customer  Low spender        19.0  Regular customer  Midwest       63.0  \n",
       "2  New customer  Low spender        19.0  Regular customer  Midwest       72.0  \n",
       "\n",
       "[3 rows x 21 columns]"
      ]
     },
     "execution_count": 27,
     "metadata": {},
     "output_type": "execute_result"
    }
   ],
   "source": [
    "df_orders_products_region.head(3)"
   ]
  },
  {
   "cell_type": "code",
   "execution_count": 28,
   "id": "0ced8308",
   "metadata": {},
   "outputs": [],
   "source": [
    "# Export file\n",
    "df_orders_products_region.to_pickle(os.path.join(path, '02 Data','Prepared Data', '4_10_3_orders_products_region_add.pkl'))"
   ]
  },
  {
   "cell_type": "markdown",
   "id": "9f3e4305",
   "metadata": {},
   "source": [
    "### A new corr. marix with value 'order_cost'"
   ]
  },
  {
   "cell_type": "code",
   "execution_count": 18,
   "id": "001f1d0d",
   "metadata": {},
   "outputs": [],
   "source": [
    "corr_matrix1 = df_orders_products_region[['order_cost', 'Age', 'income', 'n_dependants', 'order_hour_of_day', 'orders_day_of_the_week' ]].corr(numeric_only=True)"
   ]
  },
  {
   "cell_type": "code",
   "execution_count": 19,
   "id": "b05e670e",
   "metadata": {},
   "outputs": [
    {
     "data": {
      "text/html": [
       "<div>\n",
       "<style scoped>\n",
       "    .dataframe tbody tr th:only-of-type {\n",
       "        vertical-align: middle;\n",
       "    }\n",
       "\n",
       "    .dataframe tbody tr th {\n",
       "        vertical-align: top;\n",
       "    }\n",
       "\n",
       "    .dataframe thead th {\n",
       "        text-align: right;\n",
       "    }\n",
       "</style>\n",
       "<table border=\"1\" class=\"dataframe\">\n",
       "  <thead>\n",
       "    <tr style=\"text-align: right;\">\n",
       "      <th></th>\n",
       "      <th>order_cost</th>\n",
       "      <th>Age</th>\n",
       "      <th>income</th>\n",
       "      <th>n_dependants</th>\n",
       "      <th>order_hour_of_day</th>\n",
       "      <th>orders_day_of_the_week</th>\n",
       "    </tr>\n",
       "  </thead>\n",
       "  <tbody>\n",
       "    <tr>\n",
       "      <th>order_cost</th>\n",
       "      <td>1.000000</td>\n",
       "      <td>-0.000229</td>\n",
       "      <td>0.033364</td>\n",
       "      <td>-0.001986</td>\n",
       "      <td>-0.031114</td>\n",
       "      <td>0.011877</td>\n",
       "    </tr>\n",
       "    <tr>\n",
       "      <th>Age</th>\n",
       "      <td>-0.000229</td>\n",
       "      <td>1.000000</td>\n",
       "      <td>0.417259</td>\n",
       "      <td>-0.000417</td>\n",
       "      <td>0.001872</td>\n",
       "      <td>0.002139</td>\n",
       "    </tr>\n",
       "    <tr>\n",
       "      <th>income</th>\n",
       "      <td>0.033364</td>\n",
       "      <td>0.417259</td>\n",
       "      <td>1.000000</td>\n",
       "      <td>-0.001395</td>\n",
       "      <td>0.008537</td>\n",
       "      <td>0.001805</td>\n",
       "    </tr>\n",
       "    <tr>\n",
       "      <th>n_dependants</th>\n",
       "      <td>-0.001986</td>\n",
       "      <td>-0.000417</td>\n",
       "      <td>-0.001395</td>\n",
       "      <td>1.000000</td>\n",
       "      <td>0.000869</td>\n",
       "      <td>-0.000482</td>\n",
       "    </tr>\n",
       "    <tr>\n",
       "      <th>order_hour_of_day</th>\n",
       "      <td>-0.031114</td>\n",
       "      <td>0.001872</td>\n",
       "      <td>0.008537</td>\n",
       "      <td>0.000869</td>\n",
       "      <td>1.000000</td>\n",
       "      <td>0.012166</td>\n",
       "    </tr>\n",
       "    <tr>\n",
       "      <th>orders_day_of_the_week</th>\n",
       "      <td>0.011877</td>\n",
       "      <td>0.002139</td>\n",
       "      <td>0.001805</td>\n",
       "      <td>-0.000482</td>\n",
       "      <td>0.012166</td>\n",
       "      <td>1.000000</td>\n",
       "    </tr>\n",
       "  </tbody>\n",
       "</table>\n",
       "</div>"
      ],
      "text/plain": [
       "                        order_cost       Age    income  n_dependants  \\\n",
       "order_cost                1.000000 -0.000229  0.033364     -0.001986   \n",
       "Age                      -0.000229  1.000000  0.417259     -0.000417   \n",
       "income                    0.033364  0.417259  1.000000     -0.001395   \n",
       "n_dependants             -0.001986 -0.000417 -0.001395      1.000000   \n",
       "order_hour_of_day        -0.031114  0.001872  0.008537      0.000869   \n",
       "orders_day_of_the_week    0.011877  0.002139  0.001805     -0.000482   \n",
       "\n",
       "                        order_hour_of_day  orders_day_of_the_week  \n",
       "order_cost                      -0.031114                0.011877  \n",
       "Age                              0.001872                0.002139  \n",
       "income                           0.008537                0.001805  \n",
       "n_dependants                     0.000869               -0.000482  \n",
       "order_hour_of_day                1.000000                0.012166  \n",
       "orders_day_of_the_week           0.012166                1.000000  "
      ]
     },
     "execution_count": 19,
     "metadata": {},
     "output_type": "execute_result"
    }
   ],
   "source": [
    "corr_matrix1"
   ]
  },
  {
   "cell_type": "markdown",
   "id": "1cb0e6ed",
   "metadata": {},
   "source": [
    "#### No significant correlation coefficients"
   ]
  },
  {
   "cell_type": "markdown",
   "id": "c391d529",
   "metadata": {},
   "source": [
    "### I will group by department_id and calculate the sum of order_cost"
   ]
  },
  {
   "cell_type": "code",
   "execution_count": 29,
   "id": "518558e4",
   "metadata": {},
   "outputs": [],
   "source": [
    "df_departments_results = df_orders_products_region.groupby('department_id').agg({'order_cost': ['sum']})"
   ]
  },
  {
   "cell_type": "code",
   "execution_count": 30,
   "id": "f4301835",
   "metadata": {},
   "outputs": [
    {
     "data": {
      "text/html": [
       "<div>\n",
       "<style scoped>\n",
       "    .dataframe tbody tr th:only-of-type {\n",
       "        vertical-align: middle;\n",
       "    }\n",
       "\n",
       "    .dataframe tbody tr th {\n",
       "        vertical-align: top;\n",
       "    }\n",
       "\n",
       "    .dataframe thead tr th {\n",
       "        text-align: left;\n",
       "    }\n",
       "\n",
       "    .dataframe thead tr:last-of-type th {\n",
       "        text-align: right;\n",
       "    }\n",
       "</style>\n",
       "<table border=\"1\" class=\"dataframe\">\n",
       "  <thead>\n",
       "    <tr>\n",
       "      <th></th>\n",
       "      <th>order_cost</th>\n",
       "    </tr>\n",
       "    <tr>\n",
       "      <th></th>\n",
       "      <th>sum</th>\n",
       "    </tr>\n",
       "    <tr>\n",
       "      <th>department_id</th>\n",
       "      <th></th>\n",
       "    </tr>\n",
       "  </thead>\n",
       "  <tbody>\n",
       "    <tr>\n",
       "      <th>1</th>\n",
       "      <td>2.662230e+08</td>\n",
       "    </tr>\n",
       "    <tr>\n",
       "      <th>2</th>\n",
       "      <td>4.299367e+06</td>\n",
       "    </tr>\n",
       "    <tr>\n",
       "      <th>3</th>\n",
       "      <td>1.584311e+08</td>\n",
       "    </tr>\n",
       "    <tr>\n",
       "      <th>4</th>\n",
       "      <td>1.344555e+09</td>\n",
       "    </tr>\n",
       "    <tr>\n",
       "      <th>5</th>\n",
       "      <td>1.904453e+07</td>\n",
       "    </tr>\n",
       "    <tr>\n",
       "      <th>6</th>\n",
       "      <td>3.411292e+07</td>\n",
       "    </tr>\n",
       "    <tr>\n",
       "      <th>7</th>\n",
       "      <td>3.572049e+08</td>\n",
       "    </tr>\n",
       "    <tr>\n",
       "      <th>8</th>\n",
       "      <td>1.178540e+07</td>\n",
       "    </tr>\n",
       "    <tr>\n",
       "      <th>9</th>\n",
       "      <td>1.009617e+08</td>\n",
       "    </tr>\n",
       "    <tr>\n",
       "      <th>10</th>\n",
       "      <td>5.763765e+06</td>\n",
       "    </tr>\n",
       "    <tr>\n",
       "      <th>11</th>\n",
       "      <td>5.810703e+07</td>\n",
       "    </tr>\n",
       "    <tr>\n",
       "      <th>12</th>\n",
       "      <td>1.834909e+08</td>\n",
       "    </tr>\n",
       "    <tr>\n",
       "      <th>13</th>\n",
       "      <td>2.502353e+08</td>\n",
       "    </tr>\n",
       "    <tr>\n",
       "      <th>14</th>\n",
       "      <td>9.486450e+07</td>\n",
       "    </tr>\n",
       "    <tr>\n",
       "      <th>15</th>\n",
       "      <td>1.310231e+08</td>\n",
       "    </tr>\n",
       "    <tr>\n",
       "      <th>16</th>\n",
       "      <td>7.953879e+08</td>\n",
       "    </tr>\n",
       "    <tr>\n",
       "      <th>17</th>\n",
       "      <td>8.512531e+07</td>\n",
       "    </tr>\n",
       "    <tr>\n",
       "      <th>18</th>\n",
       "      <td>6.190233e+07</td>\n",
       "    </tr>\n",
       "    <tr>\n",
       "      <th>19</th>\n",
       "      <td>2.119371e+08</td>\n",
       "    </tr>\n",
       "    <tr>\n",
       "      <th>20</th>\n",
       "      <td>1.359263e+08</td>\n",
       "    </tr>\n",
       "    <tr>\n",
       "      <th>21</th>\n",
       "      <td>1.361677e+07</td>\n",
       "    </tr>\n",
       "  </tbody>\n",
       "</table>\n",
       "</div>"
      ],
      "text/plain": [
       "                 order_cost\n",
       "                        sum\n",
       "department_id              \n",
       "1              2.662230e+08\n",
       "2              4.299367e+06\n",
       "3              1.584311e+08\n",
       "4              1.344555e+09\n",
       "5              1.904453e+07\n",
       "6              3.411292e+07\n",
       "7              3.572049e+08\n",
       "8              1.178540e+07\n",
       "9              1.009617e+08\n",
       "10             5.763765e+06\n",
       "11             5.810703e+07\n",
       "12             1.834909e+08\n",
       "13             2.502353e+08\n",
       "14             9.486450e+07\n",
       "15             1.310231e+08\n",
       "16             7.953879e+08\n",
       "17             8.512531e+07\n",
       "18             6.190233e+07\n",
       "19             2.119371e+08\n",
       "20             1.359263e+08\n",
       "21             1.361677e+07"
      ]
     },
     "execution_count": 30,
     "metadata": {},
     "output_type": "execute_result"
    }
   ],
   "source": [
    "df_departments_results"
   ]
  },
  {
   "cell_type": "code",
   "execution_count": 31,
   "id": "ab15ec32",
   "metadata": {},
   "outputs": [],
   "source": [
    "df_departments_results.to_csv(os.path.join(path, '02 Data','Prepared Data', 'my_dpt.csv'))    "
   ]
  },
  {
   "cell_type": "markdown",
   "id": "627f3165",
   "metadata": {},
   "source": [
    "#### After some Excel work plot the bar"
   ]
  },
  {
   "cell_type": "code",
   "execution_count": 11,
   "id": "8df0c95e",
   "metadata": {},
   "outputs": [],
   "source": [
    "df_departments_results_ed = pd.read_csv(os.path.join(path, '02 Data', 'Prepared Data', 'my_dpt.csv'))"
   ]
  },
  {
   "cell_type": "code",
   "execution_count": 35,
   "id": "6355c77b",
   "metadata": {},
   "outputs": [],
   "source": [
    "df_dpt_name = pd.read_csv(os.path.join(path, '02 Data', 'Prepared Data', 'Dpt.csv'))"
   ]
  },
  {
   "cell_type": "code",
   "execution_count": 36,
   "id": "37b6528f",
   "metadata": {},
   "outputs": [
    {
     "data": {
      "image/png": "[encoded data removed]",
      "text/plain": [
       "<Figure size 640x480 with 1 Axes>"
      ]
     },
     "metadata": {},
     "output_type": "display_data"
    }
   ],
   "source": [
    "Bar_depart1 = df_dpt_name.plot.bar(x='department', y='order_cost')"
   ]
  },
  {
   "cell_type": "code",
   "execution_count": 37,
   "id": "e23addea",
   "metadata": {},
   "outputs": [],
   "source": [
    "# Sorting\n",
    "df_dpt_name = df_dpt_name.sort_values(by=['order_cost'], ascending=False)"
   ]
  },
  {
   "cell_type": "code",
   "execution_count": 38,
   "id": "4feda78f",
   "metadata": {},
   "outputs": [
    {
     "data": {
      "image/png": "[encoded data removed]",
      "text/plain": [
       "<Figure size 640x480 with 1 Axes>"
      ]
     },
     "metadata": {},
     "output_type": "display_data"
    }
   ],
   "source": [
    "Bar_depart2 = df_dpt_name.plot.bar(x='department', y='order_cost')"
   ]
  },
  {
   "cell_type": "code",
   "execution_count": 39,
   "id": "51e7a418",
   "metadata": {},
   "outputs": [],
   "source": [
    "Bar_depart2.figure.savefig(os.path.join(path, '04 Analysis','Visualizations', 'depart2_bar.png'))"
   ]
  },
  {
   "cell_type": "code",
   "execution_count": 40,
   "id": "1133f51c",
   "metadata": {},
   "outputs": [],
   "source": [
    "Bar_depart1.figure.savefig(os.path.join(path, '04 Analysis','Visualizations', 'depart1_bar.png'))"
   ]
  },
  {
   "cell_type": "code",
   "execution_count": null,
   "id": "f7b5ebaa",
   "metadata": {},
   "outputs": [],
   "source": []
  }
 ],
 "metadata": {
  "kernelspec": {
   "display_name": "Python 3 (ipykernel)",
   "language": "python",
   "name": "python3"
  },
  "language_info": {
   "codemirror_mode": {
    "name": "ipython",
    "version": 3
   },
   "file_extension": ".py",
   "mimetype": "text/x-python",
   "name": "python",
   "nbconvert_exporter": "python",
   "pygments_lexer": "ipython3",
   "version": "3.11.4"
  }
 },
 "nbformat": 4,
 "nbformat_minor": 5
}
